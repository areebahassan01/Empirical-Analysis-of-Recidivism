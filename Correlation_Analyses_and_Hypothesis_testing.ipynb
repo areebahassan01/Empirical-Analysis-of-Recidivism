{
  "cells": [
    {
      "cell_type": "markdown",
      "source": [
        "# Correlation Analysis and Hypothesis testing\n"
      ],
      "metadata": {
        "id": "Su2kMWBobJ3F"
      }
    },
    {
      "cell_type": "code",
      "execution_count": null,
      "metadata": {
        "id": "LWSy15vLyldM"
      },
      "outputs": [],
      "source": [
        "from IPython.display import Image\n",
        "import pandas as pd\n",
        "import numpy as np\n",
        "import seaborn as sns\n",
        "import numpy as np\n",
        "from scipy.stats import t, norm\n",
        "from math import atanh, pow\n",
        "from numpy import tanh\n",
        "sns.set()\n",
        "import warnings\n",
        "warnings.simplefilter(\"ignore\")"
      ]
    },
    {
      "cell_type": "code",
      "execution_count": null,
      "metadata": {
        "colab": {
          "base_uri": "https://localhost:8080/",
          "height": 342
        },
        "id": "Oc34BXu3yldN",
        "outputId": "07e7f39d-dd3b-4a29-ef7b-ba6158f6290a"
      },
      "outputs": [
        {
          "output_type": "execute_result",
          "data": {
            "text/plain": [
              "   id                name   first         last   sex         dob  age  \\\n",
              "0   1    miguel hernandez  miguel    hernandez  Male  1947-04-18   69   \n",
              "1   3         kevon dixon   kevon        dixon  Male  1982-01-22   34   \n",
              "2   4            ed philo      ed        philo  Male  1991-05-14   24   \n",
              "3   5         marcu brown   marcu        brown  Male  1993-01-21   23   \n",
              "4   6  bouthy pierrelouis  bouthy  pierrelouis  Male  1973-01-22   43   \n",
              "\n",
              "           age_cat              race  decile_score  ...  screening_date  \\\n",
              "0  Greater than 45             Other             1  ...      2013-08-14   \n",
              "1          25 - 45  African-American             3  ...      2013-01-27   \n",
              "2     Less than 25  African-American             4  ...      2013-04-14   \n",
              "3     Less than 25  African-American             8  ...      2013-01-13   \n",
              "4          25 - 45             Other             1  ...      2013-03-26   \n",
              "\n",
              "  v_type_of_assessment v_decile_score v_score_text v_screening_date  \\\n",
              "0     Risk of Violence              1          Low       2013-08-14   \n",
              "1     Risk of Violence              1          Low       2013-01-27   \n",
              "2     Risk of Violence              3          Low       2013-04-14   \n",
              "3     Risk of Violence              6       Medium       2013-01-13   \n",
              "4     Risk of Violence              1          Low       2013-03-26   \n",
              "\n",
              "   in_custody  out_custody   end  event two_year_recid  \n",
              "0  2014-07-07   2014-07-14   327      0              0  \n",
              "1  2013-01-26   2013-02-05   159      1              1  \n",
              "2  2013-06-16   2013-06-16    63      0              1  \n",
              "3         NaN          NaN  1174      0              0  \n",
              "4         NaN          NaN  1102      0              0  \n",
              "\n",
              "[5 rows x 38 columns]"
            ],
            "text/html": [
              "\n",
              "  <div id=\"df-7bb08732-2d4f-4779-9307-b4521b4b3183\" class=\"colab-df-container\">\n",
              "    <div>\n",
              "<style scoped>\n",
              "    .dataframe tbody tr th:only-of-type {\n",
              "        vertical-align: middle;\n",
              "    }\n",
              "\n",
              "    .dataframe tbody tr th {\n",
              "        vertical-align: top;\n",
              "    }\n",
              "\n",
              "    .dataframe thead th {\n",
              "        text-align: right;\n",
              "    }\n",
              "</style>\n",
              "<table border=\"1\" class=\"dataframe\">\n",
              "  <thead>\n",
              "    <tr style=\"text-align: right;\">\n",
              "      <th></th>\n",
              "      <th>id</th>\n",
              "      <th>name</th>\n",
              "      <th>first</th>\n",
              "      <th>last</th>\n",
              "      <th>sex</th>\n",
              "      <th>dob</th>\n",
              "      <th>age</th>\n",
              "      <th>age_cat</th>\n",
              "      <th>race</th>\n",
              "      <th>decile_score</th>\n",
              "      <th>...</th>\n",
              "      <th>screening_date</th>\n",
              "      <th>v_type_of_assessment</th>\n",
              "      <th>v_decile_score</th>\n",
              "      <th>v_score_text</th>\n",
              "      <th>v_screening_date</th>\n",
              "      <th>in_custody</th>\n",
              "      <th>out_custody</th>\n",
              "      <th>end</th>\n",
              "      <th>event</th>\n",
              "      <th>two_year_recid</th>\n",
              "    </tr>\n",
              "  </thead>\n",
              "  <tbody>\n",
              "    <tr>\n",
              "      <th>0</th>\n",
              "      <td>1</td>\n",
              "      <td>miguel hernandez</td>\n",
              "      <td>miguel</td>\n",
              "      <td>hernandez</td>\n",
              "      <td>Male</td>\n",
              "      <td>1947-04-18</td>\n",
              "      <td>69</td>\n",
              "      <td>Greater than 45</td>\n",
              "      <td>Other</td>\n",
              "      <td>1</td>\n",
              "      <td>...</td>\n",
              "      <td>2013-08-14</td>\n",
              "      <td>Risk of Violence</td>\n",
              "      <td>1</td>\n",
              "      <td>Low</td>\n",
              "      <td>2013-08-14</td>\n",
              "      <td>2014-07-07</td>\n",
              "      <td>2014-07-14</td>\n",
              "      <td>327</td>\n",
              "      <td>0</td>\n",
              "      <td>0</td>\n",
              "    </tr>\n",
              "    <tr>\n",
              "      <th>1</th>\n",
              "      <td>3</td>\n",
              "      <td>kevon dixon</td>\n",
              "      <td>kevon</td>\n",
              "      <td>dixon</td>\n",
              "      <td>Male</td>\n",
              "      <td>1982-01-22</td>\n",
              "      <td>34</td>\n",
              "      <td>25 - 45</td>\n",
              "      <td>African-American</td>\n",
              "      <td>3</td>\n",
              "      <td>...</td>\n",
              "      <td>2013-01-27</td>\n",
              "      <td>Risk of Violence</td>\n",
              "      <td>1</td>\n",
              "      <td>Low</td>\n",
              "      <td>2013-01-27</td>\n",
              "      <td>2013-01-26</td>\n",
              "      <td>2013-02-05</td>\n",
              "      <td>159</td>\n",
              "      <td>1</td>\n",
              "      <td>1</td>\n",
              "    </tr>\n",
              "    <tr>\n",
              "      <th>2</th>\n",
              "      <td>4</td>\n",
              "      <td>ed philo</td>\n",
              "      <td>ed</td>\n",
              "      <td>philo</td>\n",
              "      <td>Male</td>\n",
              "      <td>1991-05-14</td>\n",
              "      <td>24</td>\n",
              "      <td>Less than 25</td>\n",
              "      <td>African-American</td>\n",
              "      <td>4</td>\n",
              "      <td>...</td>\n",
              "      <td>2013-04-14</td>\n",
              "      <td>Risk of Violence</td>\n",
              "      <td>3</td>\n",
              "      <td>Low</td>\n",
              "      <td>2013-04-14</td>\n",
              "      <td>2013-06-16</td>\n",
              "      <td>2013-06-16</td>\n",
              "      <td>63</td>\n",
              "      <td>0</td>\n",
              "      <td>1</td>\n",
              "    </tr>\n",
              "    <tr>\n",
              "      <th>3</th>\n",
              "      <td>5</td>\n",
              "      <td>marcu brown</td>\n",
              "      <td>marcu</td>\n",
              "      <td>brown</td>\n",
              "      <td>Male</td>\n",
              "      <td>1993-01-21</td>\n",
              "      <td>23</td>\n",
              "      <td>Less than 25</td>\n",
              "      <td>African-American</td>\n",
              "      <td>8</td>\n",
              "      <td>...</td>\n",
              "      <td>2013-01-13</td>\n",
              "      <td>Risk of Violence</td>\n",
              "      <td>6</td>\n",
              "      <td>Medium</td>\n",
              "      <td>2013-01-13</td>\n",
              "      <td>NaN</td>\n",
              "      <td>NaN</td>\n",
              "      <td>1174</td>\n",
              "      <td>0</td>\n",
              "      <td>0</td>\n",
              "    </tr>\n",
              "    <tr>\n",
              "      <th>4</th>\n",
              "      <td>6</td>\n",
              "      <td>bouthy pierrelouis</td>\n",
              "      <td>bouthy</td>\n",
              "      <td>pierrelouis</td>\n",
              "      <td>Male</td>\n",
              "      <td>1973-01-22</td>\n",
              "      <td>43</td>\n",
              "      <td>25 - 45</td>\n",
              "      <td>Other</td>\n",
              "      <td>1</td>\n",
              "      <td>...</td>\n",
              "      <td>2013-03-26</td>\n",
              "      <td>Risk of Violence</td>\n",
              "      <td>1</td>\n",
              "      <td>Low</td>\n",
              "      <td>2013-03-26</td>\n",
              "      <td>NaN</td>\n",
              "      <td>NaN</td>\n",
              "      <td>1102</td>\n",
              "      <td>0</td>\n",
              "      <td>0</td>\n",
              "    </tr>\n",
              "  </tbody>\n",
              "</table>\n",
              "<p>5 rows × 38 columns</p>\n",
              "</div>\n",
              "    <div class=\"colab-df-buttons\">\n",
              "\n",
              "  <div class=\"colab-df-container\">\n",
              "    <button class=\"colab-df-convert\" onclick=\"convertToInteractive('df-7bb08732-2d4f-4779-9307-b4521b4b3183')\"\n",
              "            title=\"Convert this dataframe to an interactive table.\"\n",
              "            style=\"display:none;\">\n",
              "\n",
              "  <svg xmlns=\"http://www.w3.org/2000/svg\" height=\"24px\" viewBox=\"0 -960 960 960\">\n",
              "    <path d=\"M120-120v-720h720v720H120Zm60-500h600v-160H180v160Zm220 220h160v-160H400v160Zm0 220h160v-160H400v160ZM180-400h160v-160H180v160Zm440 0h160v-160H620v160ZM180-180h160v-160H180v160Zm440 0h160v-160H620v160Z\"/>\n",
              "  </svg>\n",
              "    </button>\n",
              "\n",
              "  <style>\n",
              "    .colab-df-container {\n",
              "      display:flex;\n",
              "      gap: 12px;\n",
              "    }\n",
              "\n",
              "    .colab-df-convert {\n",
              "      background-color: #E8F0FE;\n",
              "      border: none;\n",
              "      border-radius: 50%;\n",
              "      cursor: pointer;\n",
              "      display: none;\n",
              "      fill: #1967D2;\n",
              "      height: 32px;\n",
              "      padding: 0 0 0 0;\n",
              "      width: 32px;\n",
              "    }\n",
              "\n",
              "    .colab-df-convert:hover {\n",
              "      background-color: #E2EBFA;\n",
              "      box-shadow: 0px 1px 2px rgba(60, 64, 67, 0.3), 0px 1px 3px 1px rgba(60, 64, 67, 0.15);\n",
              "      fill: #174EA6;\n",
              "    }\n",
              "\n",
              "    .colab-df-buttons div {\n",
              "      margin-bottom: 4px;\n",
              "    }\n",
              "\n",
              "    [theme=dark] .colab-df-convert {\n",
              "      background-color: #3B4455;\n",
              "      fill: #D2E3FC;\n",
              "    }\n",
              "\n",
              "    [theme=dark] .colab-df-convert:hover {\n",
              "      background-color: #434B5C;\n",
              "      box-shadow: 0px 1px 3px 1px rgba(0, 0, 0, 0.15);\n",
              "      filter: drop-shadow(0px 1px 2px rgba(0, 0, 0, 0.3));\n",
              "      fill: #FFFFFF;\n",
              "    }\n",
              "  </style>\n",
              "\n",
              "    <script>\n",
              "      const buttonEl =\n",
              "        document.querySelector('#df-7bb08732-2d4f-4779-9307-b4521b4b3183 button.colab-df-convert');\n",
              "      buttonEl.style.display =\n",
              "        google.colab.kernel.accessAllowed ? 'block' : 'none';\n",
              "\n",
              "      async function convertToInteractive(key) {\n",
              "        const element = document.querySelector('#df-7bb08732-2d4f-4779-9307-b4521b4b3183');\n",
              "        const dataTable =\n",
              "          await google.colab.kernel.invokeFunction('convertToInteractive',\n",
              "                                                    [key], {});\n",
              "        if (!dataTable) return;\n",
              "\n",
              "        const docLinkHtml = 'Like what you see? Visit the ' +\n",
              "          '<a target=\"_blank\" href=https://colab.research.google.com/notebooks/data_table.ipynb>data table notebook</a>'\n",
              "          + ' to learn more about interactive tables.';\n",
              "        element.innerHTML = '';\n",
              "        dataTable['output_type'] = 'display_data';\n",
              "        await google.colab.output.renderOutput(dataTable, element);\n",
              "        const docLink = document.createElement('div');\n",
              "        docLink.innerHTML = docLinkHtml;\n",
              "        element.appendChild(docLink);\n",
              "      }\n",
              "    </script>\n",
              "  </div>\n",
              "\n",
              "\n",
              "<div id=\"df-6a5a08b2-7463-4709-9b3e-79c73429d6af\">\n",
              "  <button class=\"colab-df-quickchart\" onclick=\"quickchart('df-6a5a08b2-7463-4709-9b3e-79c73429d6af')\"\n",
              "            title=\"Suggest charts\"\n",
              "            style=\"display:none;\">\n",
              "\n",
              "<svg xmlns=\"http://www.w3.org/2000/svg\" height=\"24px\"viewBox=\"0 0 24 24\"\n",
              "     width=\"24px\">\n",
              "    <g>\n",
              "        <path d=\"M19 3H5c-1.1 0-2 .9-2 2v14c0 1.1.9 2 2 2h14c1.1 0 2-.9 2-2V5c0-1.1-.9-2-2-2zM9 17H7v-7h2v7zm4 0h-2V7h2v10zm4 0h-2v-4h2v4z\"/>\n",
              "    </g>\n",
              "</svg>\n",
              "  </button>\n",
              "\n",
              "<style>\n",
              "  .colab-df-quickchart {\n",
              "      --bg-color: #E8F0FE;\n",
              "      --fill-color: #1967D2;\n",
              "      --hover-bg-color: #E2EBFA;\n",
              "      --hover-fill-color: #174EA6;\n",
              "      --disabled-fill-color: #AAA;\n",
              "      --disabled-bg-color: #DDD;\n",
              "  }\n",
              "\n",
              "  [theme=dark] .colab-df-quickchart {\n",
              "      --bg-color: #3B4455;\n",
              "      --fill-color: #D2E3FC;\n",
              "      --hover-bg-color: #434B5C;\n",
              "      --hover-fill-color: #FFFFFF;\n",
              "      --disabled-bg-color: #3B4455;\n",
              "      --disabled-fill-color: #666;\n",
              "  }\n",
              "\n",
              "  .colab-df-quickchart {\n",
              "    background-color: var(--bg-color);\n",
              "    border: none;\n",
              "    border-radius: 50%;\n",
              "    cursor: pointer;\n",
              "    display: none;\n",
              "    fill: var(--fill-color);\n",
              "    height: 32px;\n",
              "    padding: 0;\n",
              "    width: 32px;\n",
              "  }\n",
              "\n",
              "  .colab-df-quickchart:hover {\n",
              "    background-color: var(--hover-bg-color);\n",
              "    box-shadow: 0 1px 2px rgba(60, 64, 67, 0.3), 0 1px 3px 1px rgba(60, 64, 67, 0.15);\n",
              "    fill: var(--button-hover-fill-color);\n",
              "  }\n",
              "\n",
              "  .colab-df-quickchart-complete:disabled,\n",
              "  .colab-df-quickchart-complete:disabled:hover {\n",
              "    background-color: var(--disabled-bg-color);\n",
              "    fill: var(--disabled-fill-color);\n",
              "    box-shadow: none;\n",
              "  }\n",
              "\n",
              "  .colab-df-spinner {\n",
              "    border: 2px solid var(--fill-color);\n",
              "    border-color: transparent;\n",
              "    border-bottom-color: var(--fill-color);\n",
              "    animation:\n",
              "      spin 1s steps(1) infinite;\n",
              "  }\n",
              "\n",
              "  @keyframes spin {\n",
              "    0% {\n",
              "      border-color: transparent;\n",
              "      border-bottom-color: var(--fill-color);\n",
              "      border-left-color: var(--fill-color);\n",
              "    }\n",
              "    20% {\n",
              "      border-color: transparent;\n",
              "      border-left-color: var(--fill-color);\n",
              "      border-top-color: var(--fill-color);\n",
              "    }\n",
              "    30% {\n",
              "      border-color: transparent;\n",
              "      border-left-color: var(--fill-color);\n",
              "      border-top-color: var(--fill-color);\n",
              "      border-right-color: var(--fill-color);\n",
              "    }\n",
              "    40% {\n",
              "      border-color: transparent;\n",
              "      border-right-color: var(--fill-color);\n",
              "      border-top-color: var(--fill-color);\n",
              "    }\n",
              "    60% {\n",
              "      border-color: transparent;\n",
              "      border-right-color: var(--fill-color);\n",
              "    }\n",
              "    80% {\n",
              "      border-color: transparent;\n",
              "      border-right-color: var(--fill-color);\n",
              "      border-bottom-color: var(--fill-color);\n",
              "    }\n",
              "    90% {\n",
              "      border-color: transparent;\n",
              "      border-bottom-color: var(--fill-color);\n",
              "    }\n",
              "  }\n",
              "</style>\n",
              "\n",
              "  <script>\n",
              "    async function quickchart(key) {\n",
              "      const quickchartButtonEl =\n",
              "        document.querySelector('#' + key + ' button');\n",
              "      quickchartButtonEl.disabled = true;  // To prevent multiple clicks.\n",
              "      quickchartButtonEl.classList.add('colab-df-spinner');\n",
              "      try {\n",
              "        const charts = await google.colab.kernel.invokeFunction(\n",
              "            'suggestCharts', [key], {});\n",
              "      } catch (error) {\n",
              "        console.error('Error during call to suggestCharts:', error);\n",
              "      }\n",
              "      quickchartButtonEl.classList.remove('colab-df-spinner');\n",
              "      quickchartButtonEl.classList.add('colab-df-quickchart-complete');\n",
              "    }\n",
              "    (() => {\n",
              "      let quickchartButtonEl =\n",
              "        document.querySelector('#df-6a5a08b2-7463-4709-9b3e-79c73429d6af button');\n",
              "      quickchartButtonEl.style.display =\n",
              "        google.colab.kernel.accessAllowed ? 'block' : 'none';\n",
              "    })();\n",
              "  </script>\n",
              "</div>\n",
              "    </div>\n",
              "  </div>\n"
            ]
          },
          "metadata": {},
          "execution_count": 7
        }
      ],
      "source": [
        "df_pre_data = pd.read_csv('/content/compas-two-years-preprocessed',index_col= None)\n",
        "df_pre_data = df_pre_data.drop('Unnamed: 0', axis=1, errors='ignore')\n",
        "df_pre_data.head()"
      ]
    },
    {
      "cell_type": "code",
      "execution_count": null,
      "metadata": {
        "colab": {
          "base_uri": "https://localhost:8080/"
        },
        "id": "jhGd3EvtyldO",
        "outputId": "f262d667-873b-40ca-acc1-daf0642a2b19"
      },
      "outputs": [
        {
          "output_type": "execute_result",
          "data": {
            "text/plain": [
              "-0.3877325537520373"
            ]
          },
          "metadata": {},
          "execution_count": 18
        }
      ],
      "source": [
        "#Correlation score between person age and decile score\n",
        "corr_A_D = df_pre_data['age'].corr(df_pre_data['decile_score'])\n",
        "corr_A_D"
      ]
    },
    {
      "cell_type": "markdown",
      "source": [
        "The value of -0.388 indicates a moderate negative correlation which means that as  \"age\" increases, the variable \"decile_score\" tends to decrease. So, from the dataset and the correlation value we can say that younger individuals tend to have higher decile scores, and older individuals tend to have lower decile scores."
      ],
      "metadata": {
        "id": "eBxOhmGy2OiK"
      }
    },
    {
      "cell_type": "code",
      "execution_count": null,
      "metadata": {
        "colab": {
          "base_uri": "https://localhost:8080/"
        },
        "id": "JbmFNROgyldO",
        "outputId": "ec7ce91e-8057-4fc4-db7d-5a838d197fbe"
      },
      "outputs": [
        {
          "output_type": "execute_result",
          "data": {
            "text/plain": [
              "-0.19032348222041895"
            ]
          },
          "metadata": {},
          "execution_count": 19
        }
      ],
      "source": [
        "#Correlation score  between person's age and two-year recidivism value\n",
        "corr_A_TR = df_pre_data['age'].corr(df_pre_data['two_year_recid'])\n",
        "corr_A_TR"
      ]
    },
    {
      "cell_type": "markdown",
      "source": [
        "The Correlation score  between person's age and two-year recidivism value of -0.1903 denotes a low negative correlation which means that as \"age\" increases, the variable \"'two_year_recid\" tends to decrease. So, from the dataset and the correlation value we can't strongly say that younger individuals tend to have higher recidivism score than older individuals because of low correlation value.\n"
      ],
      "metadata": {
        "id": "L-8MCBSp3S81"
      }
    },
    {
      "cell_type": "code",
      "execution_count": null,
      "metadata": {
        "colab": {
          "base_uri": "https://localhost:8080/"
        },
        "id": "88dbNnPhyldO",
        "outputId": "a08d4d6e-3a80-448b-8f39-a1c752233748"
      },
      "outputs": [
        {
          "output_type": "execute_result",
          "data": {
            "text/plain": [
              "0.3507026426945216"
            ]
          },
          "metadata": {},
          "execution_count": 20
        }
      ],
      "source": [
        "#Correlation score between individual's decile score and two-year recidivism\n",
        "corr_D_T = df_pre_data['decile_score'].corr(df_pre_data['two_year_recid'])\n",
        "corr_D_T"
      ]
    },
    {
      "cell_type": "markdown",
      "source": [
        " A positive correlation score of 0.351 between an individual's decile score and two-year recidivism suggests that individuals with higher decile scores  are more likely to have a higher tendency of recidivism within the two-year period, and those with lower decile scores are more likely to have a lower tendency of recidivism."
      ],
      "metadata": {
        "id": "E7Edmr6E6qW7"
      }
    },
    {
      "cell_type": "markdown",
      "metadata": {
        "id": "SeYLtN_9yldP"
      },
      "source": [
        "## Hypothesis 1: The decline in recidivism with age is overestimated by COMPAS risk scores."
      ]
    },
    {
      "cell_type": "code",
      "execution_count": null,
      "metadata": {
        "colab": {
          "base_uri": "https://localhost:8080/",
          "height": 314
        },
        "id": "w-m_v_m9yldQ",
        "outputId": "3c86b3c7-a576-4a42-f21b-5e7967dede81"
      },
      "outputs": [
        {
          "output_type": "execute_result",
          "data": {
            "text/plain": [
              "<seaborn.axisgrid.FacetGrid at 0x79a01ec3e950>"
            ]
          },
          "metadata": {},
          "execution_count": 12
        },
        {
          "output_type": "display_data",
          "data": {
            "text/plain": [
              "<Figure size 1500x500 with 1 Axes>"
            ],
            "image/png": "[encoded data removed]"
          },
          "metadata": {}
        }
      ],
      "source": [
        "sns.catplot(data=df_pre_data, x='age', y='decile_score', orient = 'h', kind = 'box', aspect = 3, order = [10,9,8,7,6,5,4,3,2,1])"
      ]
    },
    {
      "cell_type": "code",
      "execution_count": null,
      "metadata": {
        "colab": {
          "base_uri": "https://localhost:8080/",
          "height": 314
        },
        "id": "qBwc3tBOyldQ",
        "outputId": "e5400ccf-6004-4e03-dbd0-e3ea121fc3dd"
      },
      "outputs": [
        {
          "output_type": "execute_result",
          "data": {
            "text/plain": [
              "<seaborn.axisgrid.FacetGrid at 0x79a01ecd40d0>"
            ]
          },
          "metadata": {},
          "execution_count": 14
        },
        {
          "output_type": "display_data",
          "data": {
            "text/plain": [
              "<Figure size 1500x500 with 1 Axes>"
            ],
            "image/png": "[encoded data removed]"
          },
          "metadata": {}
        }
      ],
      "source": [
        "sns.catplot(data=df_pre_data, x='age', y='two_year_recid', aspect = 3, kind = 'box', orient = 'h', order = [1,0])"
      ]
    },
    {
      "cell_type": "code",
      "execution_count": null,
      "metadata": {
        "id": "ezOTAIHfyldR"
      },
      "outputs": [],
      "source": [
        "# Calculating t and p-val using 'steiger'\n",
        "def dependent_corr_steiger_zou(ab, ac, bc, n, twotailed=True, conf_level=0.95):\n",
        "    d = ab - ac\n",
        "    determ = 1 - ab * ab - ac * ac - bc * bc + 2 * ab * ac * bc\n",
        "    av = (ab + ac)/2\n",
        "    cube = (1 - bc) * (1 - bc) * (1 - bc)\n",
        "\n",
        "    t2 = d * np.sqrt((n - 1) * (1 + bc)/(((2 * (n - 1)/(n - 3)) * determ + av * av * cube)))\n",
        "    p = 1 - t.cdf(abs(t2), n - 3)\n",
        "\n",
        "    if twotailed:\n",
        "        p *= 2\n",
        "\n",
        "    return t2, p"
      ]
    },
    {
      "cell_type": "code",
      "source": [
        "df_pre_data['age'].count()"
      ],
      "metadata": {
        "colab": {
          "base_uri": "https://localhost:8080/"
        },
        "id": "POFs8Q539yf-",
        "outputId": "a891ccdb-f58a-4833-91b4-55238f3a3196"
      },
      "execution_count": null,
      "outputs": [
        {
          "output_type": "execute_result",
          "data": {
            "text/plain": [
              "7214"
            ]
          },
          "metadata": {},
          "execution_count": 23
        }
      ]
    },
    {
      "cell_type": "code",
      "execution_count": null,
      "metadata": {
        "scrolled": true,
        "colab": {
          "base_uri": "https://localhost:8080/"
        },
        "id": "oAzlk3_dyldR",
        "outputId": "8fc9bde6-c411-4100-dcf4-ddac79cff2de"
      },
      "outputs": [
        {
          "output_type": "execute_result",
          "data": {
            "text/plain": [
              "(-15.868951111828865, 0.0)"
            ]
          },
          "metadata": {},
          "execution_count": 25
        }
      ],
      "source": [
        "dependent_corr_steiger_zou(corr_A_D, corr_A_TR, corr_D_T, 7214, twotailed = False)"
      ]
    },
    {
      "cell_type": "markdown",
      "metadata": {
        "id": "gdJ3Ral_yldR"
      },
      "source": [
        "\n",
        "The p-values of 0 indicate strong evidence that the relationship between age or decile score and recidivism is not due to random chance. The finding is that the risk scores might be a bit too optimistic about how much the chance of re-offending goes down for older people"
      ]
    },
    {
      "cell_type": "markdown",
      "metadata": {
        "id": "q_kGwP4PyldT"
      },
      "source": [
        "## Hypothesis 2: The correlation between the decile score and recidivism differs between African-Americans and Caucasians."
      ]
    },
    {
      "cell_type": "code",
      "source": [
        "\n",
        "data_aa = df_pre_data[df_pre_data['race'] == 'African-American']\n",
        "\n",
        "data_caucasian = df_pre_data[df_pre_data['race'] == 'Caucasian']\n",
        "\n",
        "xy = data_aa['decile_score'].corr(data_aa['two_year_recid'])\n",
        "\n",
        "xz = data_caucasian['decile_score'].corr(data_caucasian['two_year_recid'])\n",
        "\n",
        "# correlation coefficient between recidivism for African-Americans and Caucasians\n",
        "yz = data_aa['decile_score'].corr(data_caucasian['decile_score'])\n",
        "# Print the correlation coefficients\n",
        "print(\"Correlation for African-Americans (xy):\", xy)\n",
        "print(\"Correlation for Caucasians (xz):\", xz)\n",
        "print(\"Correlation between African-Americans and Caucasians (yz):\", yz)\n"
      ],
      "metadata": {
        "colab": {
          "base_uri": "https://localhost:8080/"
        },
        "id": "wlvcSeVKg9y2",
        "outputId": "895fbd8c-7b71-4d8c-a111-6e100a8f69c0"
      },
      "execution_count": 54,
      "outputs": [
        {
          "output_type": "stream",
          "name": "stdout",
          "text": [
            "Correlation for African-Americans (xy): 0.33389497211860025\n",
            "Correlation for Caucasians (xz): 0.33585251640417824\n",
            "Correlation between African-Americans and Caucasians (yz): nan\n"
          ]
        }
      ]
    },
    {
      "cell_type": "markdown",
      "metadata": {
        "id": "HiA8suqAyldT"
      },
      "source": [
        "The hypothesis stated that the correlation between the decile score and recidivism is slightly different\n",
        "(0.002) for African-Americans than for Caucasians. So this low difference provided correlation coefficients alone do not directly address the hypothesis."
      ]
    },
    {
      "cell_type": "markdown",
      "metadata": {
        "id": "zQ-aKpIYyldT"
      },
      "source": [
        "## Hypothesis 3: The correlation between COMPAS risk scores and recidivism is greater for men compared to women."
      ]
    },
    {
      "cell_type": "code",
      "execution_count": 55,
      "metadata": {
        "colab": {
          "base_uri": "https://localhost:8080/"
        },
        "id": "Osm_PSQAyldU",
        "outputId": "facbdf63-8a6f-4d17-d086-7a6d63b16205"
      },
      "outputs": [
        {
          "output_type": "execute_result",
          "data": {
            "text/plain": [
              "0.352496073218259"
            ]
          },
          "metadata": {},
          "execution_count": 55
        }
      ],
      "source": [
        "xy = (df_pre_data[(df_pre_data.sex == 'Male')].decile_score).corr(df_pre_data['two_year_recid'])\n",
        "xy"
      ]
    },
    {
      "cell_type": "code",
      "execution_count": 56,
      "metadata": {
        "colab": {
          "base_uri": "https://localhost:8080/"
        },
        "id": "dM4NhM1iyldU",
        "outputId": "e8c2505e-1a74-4dcc-bed5-626f7b1f6e90"
      },
      "outputs": [
        {
          "output_type": "execute_result",
          "data": {
            "text/plain": [
              "id                      5819\n",
              "name                    5819\n",
              "first                   5819\n",
              "last                    5819\n",
              "sex                     5819\n",
              "dob                     5819\n",
              "age                     5819\n",
              "age_cat                 5819\n",
              "race                    5819\n",
              "decile_score            5819\n",
              "priors_count            5819\n",
              "c_jail_in               5579\n",
              "c_jail_out              5579\n",
              "c_offense_date          4862\n",
              "c_charge_degree         5819\n",
              "c_charge_desc           5798\n",
              "is_recid                5819\n",
              "r_charge_degree         2941\n",
              "r_days_from_arrest      1970\n",
              "r_offense_date          2941\n",
              "r_charge_desc           2893\n",
              "r_jail_in               1970\n",
              "r_jail_out              1970\n",
              "violent_recid              0\n",
              "is_violent_recid        5819\n",
              "type_of_assessment      5819\n",
              "decile_score.1          5819\n",
              "score_text              5819\n",
              "screening_date          5819\n",
              "v_type_of_assessment    5819\n",
              "v_decile_score          5819\n",
              "v_score_text            5819\n",
              "v_screening_date        5819\n",
              "in_custody              5642\n",
              "out_custody             5642\n",
              "end                     5819\n",
              "event                   5819\n",
              "two_year_recid          5819\n",
              "dtype: int64"
            ]
          },
          "metadata": {},
          "execution_count": 56
        }
      ],
      "source": [
        "df_pre_data[(df_pre_data.sex == 'Male')].count()"
      ]
    },
    {
      "cell_type": "code",
      "execution_count": 57,
      "metadata": {
        "colab": {
          "base_uri": "https://localhost:8080/"
        },
        "id": "5eCa8mQNyldU",
        "outputId": "5cde6d19-0e83-4553-d462-9c33e8dea3d3"
      },
      "outputs": [
        {
          "output_type": "execute_result",
          "data": {
            "text/plain": [
              "0.32374005157403946"
            ]
          },
          "metadata": {},
          "execution_count": 57
        }
      ],
      "source": [
        "yz = (df_pre_data[(df_pre_data.sex == 'Female')].decile_score).corr(df_pre_data['two_year_recid'])\n",
        "yz"
      ]
    },
    {
      "cell_type": "code",
      "execution_count": null,
      "metadata": {
        "colab": {
          "base_uri": "https://localhost:8080/"
        },
        "id": "x-9dDkMwyldU",
        "outputId": "d3b18617-4bdc-45fe-dc33-a90e6f75b0c2"
      },
      "outputs": [
        {
          "output_type": "execute_result",
          "data": {
            "text/plain": [
              "id                      1395\n",
              "name                    1395\n",
              "first                   1395\n",
              "last                    1395\n",
              "sex                     1395\n",
              "dob                     1395\n",
              "age                     1395\n",
              "age_cat                 1395\n",
              "race                    1395\n",
              "decile_score            1395\n",
              "priors_count            1395\n",
              "c_jail_in               1328\n",
              "c_jail_out              1328\n",
              "c_offense_date          1193\n",
              "c_charge_degree         1395\n",
              "c_charge_desc           1387\n",
              "is_recid                1395\n",
              "r_charge_degree          530\n",
              "r_days_from_arrest       346\n",
              "r_offense_date           530\n",
              "r_charge_desc            520\n",
              "r_jail_in                346\n",
              "r_jail_out               346\n",
              "violent_recid              0\n",
              "is_violent_recid        1395\n",
              "type_of_assessment      1395\n",
              "decile_score.1          1395\n",
              "score_text              1395\n",
              "screening_date          1395\n",
              "v_type_of_assessment    1395\n",
              "v_decile_score          1395\n",
              "v_score_text            1395\n",
              "v_screening_date        1395\n",
              "in_custody              1336\n",
              "out_custody             1336\n",
              "end                     1395\n",
              "event                   1395\n",
              "two_year_recid          1395\n",
              "dtype: int64"
            ]
          },
          "metadata": {},
          "execution_count": 45
        }
      ],
      "source": [
        "df_pre_data[(df_pre_data.sex == 'Female')].count()"
      ]
    },
    {
      "cell_type": "code",
      "execution_count": 58,
      "metadata": {
        "id": "sZcImmxcyldU"
      },
      "outputs": [],
      "source": [
        "def independent_corr_fisher(ab, bc, n, n2 = None, twotailed=True, conf_level=0.95):\n",
        "\n",
        "    xy_z = 0.5 * np.log((1 + ab)/(1 - ab))\n",
        "    ab_z = 0.5 * np.log((1 + bc)/(1 - bc))\n",
        "    if n2 is None:\n",
        "        n2 = n\n",
        "\n",
        "    se_diff_r = np.sqrt(1/(n - 3) + 1/(n2 - 3))\n",
        "    diff = xy_z - ab_z\n",
        "    z = abs(diff / se_diff_r)\n",
        "    p = (1 - norm.cdf(z))\n",
        "    if twotailed:\n",
        "        p *= 2\n",
        "\n",
        "    return z, p"
      ]
    },
    {
      "cell_type": "code",
      "execution_count": 60,
      "metadata": {
        "colab": {
          "base_uri": "https://localhost:8080/"
        },
        "id": "d77WwwviyldV",
        "outputId": "8f49c24f-f364-4db2-faa0-499536b6c6bf"
      },
      "outputs": [
        {
          "output_type": "execute_result",
          "data": {
            "text/plain": [
              "(1.0882520987464257, 0.13824191539100616)"
            ]
          },
          "metadata": {},
          "execution_count": 60
        }
      ],
      "source": [
        "independent_corr_fisher(xy, yz, 5819, 1395, twotailed = False)"
      ]
    },
    {
      "cell_type": "markdown",
      "metadata": {
        "id": "o81hjgOEyldV"
      },
      "source": [
        "With a p-value of 0.14 at a significance level (alpha) of 0.05, we do not have sufficient evidence to say that the correlation between COMPAS risk scores and recidivism is significantly higher for men compared to women."
      ]
    }
  ],
  "metadata": {
    "kernelspec": {
      "display_name": "Python 3",
      "language": "python",
      "name": "python3"
    },
    "language_info": {
      "codemirror_mode": {
        "name": "ipython",
        "version": 3
      },
      "file_extension": ".py",
      "mimetype": "text/x-python",
      "name": "python",
      "nbconvert_exporter": "python",
      "pygments_lexer": "ipython3",
      "version": "3.8.3"
    },
    "colab": {
      "provenance": []
    }
  },
  "nbformat": 4,
  "nbformat_minor": 0
}